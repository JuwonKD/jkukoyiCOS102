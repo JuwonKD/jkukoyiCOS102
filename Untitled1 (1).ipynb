{
 "cells": [
  {
   "cell_type": "code",
   "execution_count": 5,
   "id": "cca8fa3d-a289-4266-b62b-30561ff08538",
   "metadata": {},
   "outputs": [
    {
     "name": "stdout",
     "output_type": "stream",
     "text": [
      "False\n",
      "False\n",
      "False\n",
      "True\n"
     ]
    }
   ],
   "source": [
    "game_1 = 2\n",
    "game_2 = 4\n",
    "print(bool(game_1 == game_2))\n",
    "\n",
    "val = None\n",
    "print(bool(val))\n",
    "\n",
    "num = ()\n",
    "print(bool(num))\n",
    "\n",
    "age = True\n",
    "print(bool(age))"
   ]
  },
  {
   "cell_type": "code",
   "execution_count": 7,
   "id": "efee5673-3ef8-476e-a7a1-336b363d8806",
   "metadata": {},
   "outputs": [
    {
     "name": "stdout",
     "output_type": "stream",
     "text": [
      "Equation Solver:\n",
      "1. Quadratic Equation (Ax^2 + Bx + C = 0)\n",
      "2. Cubic Equation (Ax^3 + Bx^2 + Cx + D = 0)\n",
      "3. Quartic Equation (Ax^4 + Bx^3 + Cx^2 + Dx + E = 0)\n"
     ]
    },
    {
     "name": "stdin",
     "output_type": "stream",
     "text": [
      "Enter your choice (1/2/3):  2\n",
      "Enter A:  1\n",
      "Enter B:  3\n",
      "Enter C:  9\n",
      "Enter D:  18\n"
     ]
    },
    {
     "name": "stdout",
     "output_type": "stream",
     "text": [
      "Roots:\n",
      "(-0.30608672585318275+2.7284696985877357j)\n",
      "(-0.30608672585318275-2.7284696985877357j)\n",
      "(-2.387826548293632+0j)\n"
     ]
    }
   ],
   "source": [
    "import numpy as np\n",
    "import cmath\n",
    "\n",
    "def solve_quadratic(A, B, C):\n",
    "    discriminant = B**2 - 4*A*C\n",
    "    root1 = (-B + cmath.sqrt(discriminant)) / (2*A)\n",
    "    root2 = (-B - cmath.sqrt(discriminant)) / (2*A)\n",
    "    return root1, root2\n",
    "\n",
    "def solve_cubic(A, B, C, D):\n",
    "    coeffs = [A, B, C, D]\n",
    "    roots = np.roots(coeffs)\n",
    "    return roots\n",
    "\n",
    "def solve_quartic(A, B, C, D, E):\n",
    "    coeffs = [A, B, C, D, E]\n",
    "    roots = np.roots(coeffs)\n",
    "    return roots\n",
    "\n",
    "print(\"Equation Solver:\")\n",
    "print(\"1. Quadratic Equation (Ax^2 + Bx + C = 0)\")\n",
    "print(\"2. Cubic Equation (Ax^3 + Bx^2 + Cx + D = 0)\")\n",
    "print(\"3. Quartic Equation (Ax^4 + Bx^3 + Cx^2 + Dx + E = 0)\")\n",
    "\n",
    "choice = input(\"Enter your choice (1/2/3): \")\n",
    "\n",
    "if choice == \"1\":\n",
    "    A = float(input(\"Enter A: \"))\n",
    "    B = float(input(\"Enter B: \"))\n",
    "    C = float(input(\"Enter C: \"))\n",
    "    roots = solve_quadratic(A, B, C)\n",
    "    print(f\"Roots: {roots[0]} and {roots[1]}\")\n",
    "\n",
    "elif choice == \"2\":\n",
    "    A = float(input(\"Enter A: \"))\n",
    "    B = float(input(\"Enter B: \"))\n",
    "    C = float(input(\"Enter C: \"))\n",
    "    D = float(input(\"Enter D: \"))\n",
    "    roots = solve_cubic(A, B, C, D)\n",
    "    print(\"Roots:\")\n",
    "    for r in roots:\n",
    "        print(r)\n",
    "\n",
    "elif choice == \"3\":\n",
    "    A = float(input(\"Enter A: \"))\n",
    "    B = float(input(\"Enter B: \"))\n",
    "    C = float(input(\"Enter C: \"))\n",
    "    D = float(input(\"Enter D: \"))\n",
    "    E = float(input(\"Enter E: \"))\n",
    "    roots = solve_quartic(A, B, C, D, E)\n",
    "    print(\"Roots:\")\n",
    "    for r in roots:\n",
    "        print(r)\n",
    "\n",
    "else:\n",
    "    print(\"Invalid choice.\")\n"
   ]
  },
  {
   "cell_type": "code",
   "execution_count": null,
   "id": "6a20f3ec-07ff-4d03-ae6e-e4f6f8b4131f",
   "metadata": {},
   "outputs": [],
   "source": []
  }
 ],
 "metadata": {
  "kernelspec": {
   "display_name": "Python [conda env:base] *",
   "language": "python",
   "name": "conda-base-py"
  },
  "language_info": {
   "codemirror_mode": {
    "name": "ipython",
    "version": 3
   },
   "file_extension": ".py",
   "mimetype": "text/x-python",
   "name": "python",
   "nbconvert_exporter": "python",
   "pygments_lexer": "ipython3",
   "version": "3.12.7"
  }
 },
 "nbformat": 4,
 "nbformat_minor": 5
}
